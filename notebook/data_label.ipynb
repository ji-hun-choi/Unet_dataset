{
 "cells": [
  {
   "cell_type": "code",
   "execution_count": 1,
   "id": "23a8254f",
   "metadata": {
    "ExecuteTime": {
     "end_time": "2023-01-10T00:27:14.474733Z",
     "start_time": "2023-01-10T00:27:13.850075Z"
    }
   },
   "outputs": [],
   "source": [
    "import json\n",
    "import os\n",
    "import cv2\n",
    "import time\n",
    "import numpy as np\n",
    "\n",
    "from glob import glob\n",
    "from tqdm import tqdm"
   ]
  },
  {
   "cell_type": "code",
   "execution_count": 2,
   "id": "eea58429",
   "metadata": {
    "ExecuteTime": {
     "end_time": "2023-01-10T00:27:14.522700Z",
     "start_time": "2023-01-10T00:27:14.491813Z"
    }
   },
   "outputs": [
    {
     "name": "stdout",
     "output_type": "stream",
     "text": [
      "I:\\personal\\fire\\Valid\n"
     ]
    }
   ],
   "source": [
    "%cd I:\\personal\\fire\\Valid"
   ]
  },
  {
   "cell_type": "code",
   "execution_count": 3,
   "id": "ee394fd1",
   "metadata": {
    "ExecuteTime": {
     "end_time": "2023-01-10T00:27:14.553494Z",
     "start_time": "2023-01-10T00:27:14.538788Z"
    }
   },
   "outputs": [],
   "source": [
    "target_root = \"I:\\\\personal\\\\fire\\\\Valid\""
   ]
  },
  {
   "cell_type": "code",
   "execution_count": 4,
   "id": "a7655217",
   "metadata": {
    "ExecuteTime": {
     "end_time": "2023-01-10T00:27:14.584024Z",
     "start_time": "2023-01-10T00:27:14.569872Z"
    }
   },
   "outputs": [],
   "source": [
    "target_label_path = os.path.join(target_root,\"fire_label\")\n",
    "target_img_path = os.path.join(target_root,\"fire_img\")"
   ]
  },
  {
   "cell_type": "code",
   "execution_count": 5,
   "id": "40ef8652",
   "metadata": {
    "ExecuteTime": {
     "end_time": "2023-01-10T00:27:31.875423Z",
     "start_time": "2023-01-10T00:27:14.601005Z"
    }
   },
   "outputs": [
    {
     "name": "stdout",
     "output_type": "stream",
     "text": [
      "I:\\personal\\fire\\Valid\\fire_label\\S3-N0819MF06091.json\n"
     ]
    }
   ],
   "source": [
    "target_label_paths = glob(target_label_path+'\\\\*.json')\n",
    "print(target_label_paths[0])"
   ]
  },
  {
   "cell_type": "code",
   "execution_count": 6,
   "id": "f75d87f4",
   "metadata": {
    "ExecuteTime": {
     "end_time": "2023-01-10T00:27:31.953199Z",
     "start_time": "2023-01-10T00:27:31.923263Z"
    }
   },
   "outputs": [
    {
     "data": {
      "text/plain": [
       "'S3-N0819MF06091.jpg'"
      ]
     },
     "execution_count": 6,
     "metadata": {},
     "output_type": "execute_result"
    }
   ],
   "source": [
    "target_label_paths[0].split(\"\\\\\")[-1]\n",
    "img_name = target_label_paths[0].split('\\\\')[-1].split('.')[0] + \".jpg\"\n",
    "img_name"
   ]
  },
  {
   "cell_type": "code",
   "execution_count": 7,
   "id": "e8d804ea",
   "metadata": {
    "ExecuteTime": {
     "end_time": "2023-01-10T00:27:32.014042Z",
     "start_time": "2023-01-10T00:27:31.984927Z"
    }
   },
   "outputs": [
    {
     "data": {
      "text/plain": [
       "{'image': {'date': '20201202',\n",
       "  'path': 'S00977',\n",
       "  'filename': 'S3-N0819MF06091.jpg',\n",
       "  'copyrighter': '미디어그룹사람과숲(컨)',\n",
       "  'location': '08',\n",
       "  'H_DPI': 96,\n",
       "  'V_DPI': 96,\n",
       "  'bit': 24,\n",
       "  'resolution': [1920, 1080]},\n",
       " 'annotations': [{'data ID': 'S3',\n",
       "   'middle classification': '01',\n",
       "   'polygon': [[599, 35],\n",
       "    [568, 70],\n",
       "    [583, 122],\n",
       "    [669, 166],\n",
       "    [673, 174],\n",
       "    [673, 200],\n",
       "    [669, 239],\n",
       "    [681, 304],\n",
       "    [770, 361],\n",
       "    [763, 369],\n",
       "    [770, 428],\n",
       "    [806, 502],\n",
       "    [836, 543],\n",
       "    [852, 588],\n",
       "    [876, 621],\n",
       "    [888, 645],\n",
       "    [894, 673],\n",
       "    [903, 706],\n",
       "    [944, 689],\n",
       "    [980, 647],\n",
       "    [989, 648],\n",
       "    [1010, 644],\n",
       "    [1009, 593],\n",
       "    [996, 569],\n",
       "    [965, 493],\n",
       "    [963, 436],\n",
       "    [968, 414],\n",
       "    [981, 333],\n",
       "    [984, 274],\n",
       "    [958, 245],\n",
       "    [936, 208],\n",
       "    [914, 169],\n",
       "    [887, 126],\n",
       "    [861, 91],\n",
       "    [861, 35],\n",
       "    [781, 7],\n",
       "    [650, 10]],\n",
       "   'class': '03',\n",
       "   'flags': 'not occluded,not truncated'},\n",
       "  {'data ID': 'S3',\n",
       "   'middle classification': '01',\n",
       "   'polygon': [[960, 677],\n",
       "    [959, 679],\n",
       "    [959, 684],\n",
       "    [960, 688],\n",
       "    [961, 690],\n",
       "    [965, 695],\n",
       "    [964, 703],\n",
       "    [966, 710],\n",
       "    [966, 719],\n",
       "    [964, 725],\n",
       "    [965, 727],\n",
       "    [967, 730],\n",
       "    [970, 731],\n",
       "    [972, 733],\n",
       "    [974, 738],\n",
       "    [978, 743],\n",
       "    [978, 744],\n",
       "    [983, 748],\n",
       "    [985, 751],\n",
       "    [986, 753],\n",
       "    [987, 755],\n",
       "    [987, 757],\n",
       "    [988, 759],\n",
       "    [990, 761],\n",
       "    [991, 763],\n",
       "    [992, 765],\n",
       "    [992, 770],\n",
       "    [997, 775],\n",
       "    [1003, 775],\n",
       "    [1005, 777],\n",
       "    [1006, 779],\n",
       "    [1006, 783],\n",
       "    [1005, 784],\n",
       "    [1005, 789],\n",
       "    [1004, 794],\n",
       "    [1003, 797],\n",
       "    [1000, 800],\n",
       "    [999, 802],\n",
       "    [998, 805],\n",
       "    [998, 810],\n",
       "    [999, 813],\n",
       "    [1004, 821],\n",
       "    [1004, 828],\n",
       "    [1005, 831],\n",
       "    [1006, 833],\n",
       "    [1007, 835],\n",
       "    [1008, 836],\n",
       "    [1010, 838],\n",
       "    [1011, 839],\n",
       "    [1013, 840],\n",
       "    [1016, 839],\n",
       "    [1016, 837],\n",
       "    [1018, 835],\n",
       "    [1024, 834],\n",
       "    [1034, 834],\n",
       "    [1037, 836],\n",
       "    [1039, 836],\n",
       "    [1039, 831],\n",
       "    [1040, 830],\n",
       "    [1040, 825],\n",
       "    [1038, 820],\n",
       "    [1037, 818],\n",
       "    [1032, 812],\n",
       "    [1023, 803],\n",
       "    [1022, 800],\n",
       "    [1022, 798],\n",
       "    [1023, 797],\n",
       "    [1023, 794],\n",
       "    [1024, 792],\n",
       "    [1031, 784],\n",
       "    [1040, 776],\n",
       "    [1041, 775],\n",
       "    [1041, 774],\n",
       "    [1045, 769],\n",
       "    [1046, 767],\n",
       "    [1046, 763],\n",
       "    [1043, 760],\n",
       "    [1039, 757],\n",
       "    [1037, 756],\n",
       "    [1029, 754],\n",
       "    [1027, 752],\n",
       "    [1026, 750],\n",
       "    [1026, 748],\n",
       "    [1029, 745],\n",
       "    [1035, 745],\n",
       "    [1038, 747],\n",
       "    [1038, 745],\n",
       "    [1039, 744],\n",
       "    [1039, 739],\n",
       "    [1038, 737],\n",
       "    [1035, 734],\n",
       "    [1015, 714],\n",
       "    [1013, 714],\n",
       "    [1013, 717],\n",
       "    [1012, 719],\n",
       "    [1010, 720],\n",
       "    [1007, 717],\n",
       "    [1004, 715],\n",
       "    [1002, 714],\n",
       "    [1000, 713],\n",
       "    [998, 713],\n",
       "    [996, 712],\n",
       "    [994, 711],\n",
       "    [993, 710],\n",
       "    [992, 708],\n",
       "    [992, 705],\n",
       "    [991, 702],\n",
       "    [986, 693],\n",
       "    [983, 686],\n",
       "    [983, 682],\n",
       "    [981, 680],\n",
       "    [979, 680],\n",
       "    [979, 685],\n",
       "    [976, 687],\n",
       "    [965, 676]],\n",
       "   'class': '04',\n",
       "   'flags': 'not occluded,not truncated'}]}"
      ]
     },
     "execution_count": 7,
     "metadata": {},
     "output_type": "execute_result"
    }
   ],
   "source": [
    "f = open(target_label_paths[0], 'r', encoding='utf-8')\n",
    "json_file = json.load(f)\n",
    "json_file"
   ]
  },
  {
   "cell_type": "code",
   "execution_count": 8,
   "id": "73b5b19a",
   "metadata": {
    "ExecuteTime": {
     "end_time": "2023-01-10T00:27:32.061170Z",
     "start_time": "2023-01-10T00:27:32.046783Z"
    }
   },
   "outputs": [
    {
     "data": {
      "text/plain": [
       "[[599, 35],\n",
       " [568, 70],\n",
       " [583, 122],\n",
       " [669, 166],\n",
       " [673, 174],\n",
       " [673, 200],\n",
       " [669, 239],\n",
       " [681, 304],\n",
       " [770, 361],\n",
       " [763, 369],\n",
       " [770, 428],\n",
       " [806, 502],\n",
       " [836, 543],\n",
       " [852, 588],\n",
       " [876, 621],\n",
       " [888, 645],\n",
       " [894, 673],\n",
       " [903, 706],\n",
       " [944, 689],\n",
       " [980, 647],\n",
       " [989, 648],\n",
       " [1010, 644],\n",
       " [1009, 593],\n",
       " [996, 569],\n",
       " [965, 493],\n",
       " [963, 436],\n",
       " [968, 414],\n",
       " [981, 333],\n",
       " [984, 274],\n",
       " [958, 245],\n",
       " [936, 208],\n",
       " [914, 169],\n",
       " [887, 126],\n",
       " [861, 91],\n",
       " [861, 35],\n",
       " [781, 7],\n",
       " [650, 10]]"
      ]
     },
     "execution_count": 8,
     "metadata": {},
     "output_type": "execute_result"
    }
   ],
   "source": [
    "json_file['annotations'][0]['polygon']"
   ]
  },
  {
   "cell_type": "code",
   "execution_count": 9,
   "id": "0d9b8e14",
   "metadata": {
    "ExecuteTime": {
     "end_time": "2023-01-10T00:27:32.108196Z",
     "start_time": "2023-01-10T00:27:32.094243Z"
    }
   },
   "outputs": [],
   "source": [
    "def img_writer(img, name):\n",
    "    img_path = \"./label2/\"+name\n",
    "    cv2.imwrite(img_path, img)\n",
    "\n",
    "def img_draw(img, polygons):\n",
    "    width, height, channels = img.shape\n",
    "    color = 0\n",
    "    draw = np.full((width, height), 255, np.uint8)\n",
    "    if polygons:\n",
    "        for poly in polygons:\n",
    "            draw = cv2.fillPoly(draw, [poly], color, cv2.LINE_AA)\n",
    "        return draw, True\n",
    "    else:\n",
    "        return draw, False\n",
    "\n",
    "def poly_out(json_r):\n",
    "    json_f = json.load(open(json_r, 'r', encoding='utf-8'))\n",
    "    annotations = json_f[\"annotations\"]\n",
    "    polygons = []\n",
    "    for annotation in annotations:\n",
    "        _cls = annotation['class']\n",
    "        if _cls == '04':\n",
    "            try:\n",
    "                polygon = annotation['polygon']\n",
    "                polygons.append(np.array(polygon))\n",
    "            except:\n",
    "                pass\n",
    "        else:\n",
    "            pass\n",
    "    return polygons"
   ]
  },
  {
   "cell_type": "code",
   "execution_count": 10,
   "id": "2e9a04f5",
   "metadata": {
    "ExecuteTime": {
     "end_time": "2023-01-10T04:47:41.884276Z",
     "start_time": "2023-01-10T00:27:32.141176Z"
    }
   },
   "outputs": [
    {
     "name": "stderr",
     "output_type": "stream",
     "text": [
      "100%|██████████████████████████████████████████████████████████████████████████| 66763/66763 [4:20:09<00:00,  4.28it/s]\n"
     ]
    }
   ],
   "source": [
    "for json_r in tqdm(target_label_paths):\n",
    "    try:\n",
    "        polygons = poly_out(json_r)\n",
    "    except :\n",
    "        pass\n",
    "    img_name = json_r.split('\\\\')[-1].split('.')[0] + \".jpg\"\n",
    "    img_r = os.path.join(target_img_path, img_name)\n",
    "    img = cv2.imread(img_r)\n",
    "    src, boo = img_draw(img, polygons)\n",
    "    if boo:\n",
    "        img_writer(src, img_name)\n",
    "    else:\n",
    "        pass"
   ]
  },
  {
   "cell_type": "code",
   "execution_count": 82,
   "id": "1fd1819e",
   "metadata": {
    "ExecuteTime": {
     "end_time": "2023-01-09T00:17:39.315738Z",
     "start_time": "2023-01-09T00:17:39.302740Z"
    }
   },
   "outputs": [],
   "source": [
    "cv2.destroyAllWindows()"
   ]
  },
  {
   "cell_type": "code",
   "execution_count": 118,
   "id": "9dc2cb40",
   "metadata": {
    "ExecuteTime": {
     "end_time": "2023-01-04T08:47:09.218687Z",
     "start_time": "2023-01-04T08:47:09.210688Z"
    }
   },
   "outputs": [
    {
     "data": {
      "text/plain": [
       "'D:\\\\Projects\\\\Unet_dataset'"
      ]
     },
     "execution_count": 118,
     "metadata": {},
     "output_type": "execute_result"
    }
   ],
   "source": [
    "os.getcwd()"
   ]
  },
  {
   "cell_type": "code",
   "execution_count": 4,
   "id": "147c4e5f",
   "metadata": {
    "ExecuteTime": {
     "end_time": "2023-01-08T23:57:40.700465Z",
     "start_time": "2023-01-08T23:57:40.656162Z"
    }
   },
   "outputs": [],
   "source": [
    "from PIL import Image\n",
    "import numpy as np"
   ]
  },
  {
   "cell_type": "code",
   "execution_count": 51,
   "id": "b82884ee",
   "metadata": {
    "ExecuteTime": {
     "end_time": "2023-01-09T00:07:11.240066Z",
     "start_time": "2023-01-09T00:07:11.078090Z"
    }
   },
   "outputs": [],
   "source": [
    "img=cv2.imread('I:/personal/fire/Valid/fire_img/S3-N0819MF06091.jpg')"
   ]
  },
  {
   "cell_type": "code",
   "execution_count": 52,
   "id": "09312713",
   "metadata": {
    "ExecuteTime": {
     "end_time": "2023-01-09T00:07:11.770734Z",
     "start_time": "2023-01-09T00:07:11.765735Z"
    }
   },
   "outputs": [
    {
     "data": {
      "text/plain": [
       "(1080, 1920)"
      ]
     },
     "execution_count": 52,
     "metadata": {},
     "output_type": "execute_result"
    }
   ],
   "source": [
    "img.shape"
   ]
  },
  {
   "cell_type": "code",
   "execution_count": 26,
   "id": "c27d1721",
   "metadata": {
    "ExecuteTime": {
     "end_time": "2023-01-06T01:19:04.820192Z",
     "start_time": "2023-01-06T01:19:04.807194Z"
    }
   },
   "outputs": [],
   "source": [
    "r = ([1,2],[3,4])"
   ]
  },
  {
   "cell_type": "code",
   "execution_count": 27,
   "id": "0b24ca93",
   "metadata": {
    "ExecuteTime": {
     "end_time": "2023-01-06T01:19:06.686235Z",
     "start_time": "2023-01-06T01:19:06.679236Z"
    }
   },
   "outputs": [
    {
     "data": {
      "text/plain": [
       "[1, 2]"
      ]
     },
     "execution_count": 27,
     "metadata": {},
     "output_type": "execute_result"
    }
   ],
   "source": [
    "r[0]"
   ]
  },
  {
   "cell_type": "code",
   "execution_count": 39,
   "id": "d10a216a",
   "metadata": {
    "ExecuteTime": {
     "end_time": "2023-01-09T00:02:54.674722Z",
     "start_time": "2023-01-09T00:02:54.661781Z"
    }
   },
   "outputs": [],
   "source": []
  },
  {
   "cell_type": "code",
   "execution_count": 53,
   "id": "46ef2e94",
   "metadata": {
    "ExecuteTime": {
     "end_time": "2023-01-09T00:07:29.581308Z",
     "start_time": "2023-01-09T00:07:26.135344Z"
    }
   },
   "outputs": [],
   "source": [
    "img = np.full((400,400,1), 255, np.uint8)\n",
    "cv2.imshow(\"img\",img)\n",
    "cv2.waitKey()\n",
    "cv2.destroyAllWindows()"
   ]
  },
  {
   "cell_type": "code",
   "execution_count": 48,
   "id": "78bf2fce",
   "metadata": {
    "ExecuteTime": {
     "end_time": "2023-01-09T00:06:02.217857Z",
     "start_time": "2023-01-09T00:06:02.205858Z"
    }
   },
   "outputs": [
    {
     "data": {
      "text/plain": [
       "(400, 400, 1)"
      ]
     },
     "execution_count": 48,
     "metadata": {},
     "output_type": "execute_result"
    }
   ],
   "source": [
    "img.shape"
   ]
  },
  {
   "cell_type": "code",
   "execution_count": 44,
   "id": "1080275b",
   "metadata": {
    "ExecuteTime": {
     "end_time": "2023-01-09T00:04:20.661496Z",
     "start_time": "2023-01-09T00:04:20.646497Z"
    }
   },
   "outputs": [],
   "source": []
  },
  {
   "cell_type": "code",
   "execution_count": null,
   "id": "ecb79b09",
   "metadata": {},
   "outputs": [],
   "source": []
  }
 ],
 "metadata": {
  "kernelspec": {
   "display_name": "gpu",
   "language": "python",
   "name": "gpu"
  },
  "language_info": {
   "codemirror_mode": {
    "name": "ipython",
    "version": 3
   },
   "file_extension": ".py",
   "mimetype": "text/x-python",
   "name": "python",
   "nbconvert_exporter": "python",
   "pygments_lexer": "ipython3",
   "version": "3.8.15"
  },
  "toc": {
   "base_numbering": 1,
   "nav_menu": {},
   "number_sections": true,
   "sideBar": true,
   "skip_h1_title": false,
   "title_cell": "Table of Contents",
   "title_sidebar": "Contents",
   "toc_cell": false,
   "toc_position": {},
   "toc_section_display": true,
   "toc_window_display": false
  },
  "varInspector": {
   "cols": {
    "lenName": 16,
    "lenType": 16,
    "lenVar": 40
   },
   "kernels_config": {
    "python": {
     "delete_cmd_postfix": "",
     "delete_cmd_prefix": "del ",
     "library": "var_list.py",
     "varRefreshCmd": "print(var_dic_list())"
    },
    "r": {
     "delete_cmd_postfix": ") ",
     "delete_cmd_prefix": "rm(",
     "library": "var_list.r",
     "varRefreshCmd": "cat(var_dic_list()) "
    }
   },
   "types_to_exclude": [
    "module",
    "function",
    "builtin_function_or_method",
    "instance",
    "_Feature"
   ],
   "window_display": false
  }
 },
 "nbformat": 4,
 "nbformat_minor": 5
}
